{
 "cells": [
  {
   "cell_type": "markdown",
   "id": "9d126e60",
   "metadata": {},
   "source": [
    "## Homework 01: due 22:00, Friday, September 30, 2022\n",
    "\n",
    "### -\tPlease work on this Jupyter notebook directly.\n",
    "### -\tName a folder using your student id and Assignment number (e.g., b88501045-HW1), put all the python scripts and notebook files into the folder and zip the folder (e.g., b88501045-HW1.zip).\n",
    "### - Submit the homework directly through the NTU COOL course website.\n"
   ]
  },
  {
   "cell_type": "markdown",
   "id": "ccc36bac",
   "metadata": {},
   "source": [
    "### You will work with the attached CSV data file _Rain_MD-Androy-Bekily_1d_19810101-20211231_CHIRPS.csv_, and your specific tasks are:"
   ]
  },
  {
   "cell_type": "markdown",
   "id": "004151ea",
   "metadata": {},
   "source": [
    "#### 0. import essential modules"
   ]
  },
  {
   "cell_type": "code",
   "execution_count": 1,
   "id": "c127409c",
   "metadata": {},
   "outputs": [],
   "source": [
    "import pandas as pd\n",
    "import matplotlib.pyplot as plt"
   ]
  },
  {
   "cell_type": "markdown",
   "id": "036ea4f3",
   "metadata": {},
   "source": [
    "#### 1. (5% + 5%) Import CSV data file, and make column 'date' datetime format "
   ]
  },
  {
   "cell_type": "code",
   "execution_count": 2,
   "id": "673d89b1",
   "metadata": {},
   "outputs": [],
   "source": [
    "# define filename\n",
    "fn_data = './Data/Rain_MD-Androy-Bekily_1d_19810101-20211231_CHIRPS.csv'\n",
    "\n",
    "# read csv file, a dataframe will be created to store data\n",
    "df_rain = pd.read_csv(fn_data)\n",
    "\n",
    "#print(type(df_rain.iloc[0]['date']))\n",
    "\n",
    "#convert 'str' to 'datetime'\n",
    "df_rain['date'] = pd.to_datetime(df_rain['date'], format='%Y/%m/%d')\n",
    "\n",
    "#print(type(df_rain.iloc[0]['date']))\n",
    "\n",
    "#df_rain.head()\n",
    "#df_rain.columns\n",
    "#df_rain.index\n",
    "#df_rain.iloc[0]"
   ]
  },
  {
   "cell_type": "markdown",
   "id": "b6c973c2",
   "metadata": {},
   "source": [
    "#### 2. (25% + 5%) Calculate rainfall totals for each year, and make a line plot illustrating the annual rainfall for location \"1_9943\". The x-axis is for time (in year) and the y-axis for rainfall totals (in mm), respectively. There shall be plot title ('annual rainfall'), legend and text labels for x- and y-axes for the plot."
   ]
  },
  {
   "cell_type": "code",
   "execution_count": 3,
   "id": "27489205",
   "metadata": {},
   "outputs": [
    {
     "data": {
      "image/png": "[encoded data removed]",
      "text/plain": [
       "<Figure size 432x288 with 1 Axes>"
      ]
     },
     "metadata": {
      "needs_background": "light"
     },
     "output_type": "display_data"
    }
   ],
   "source": [
    "#resample in year and sum up\n",
    "df_rain_1y = df_rain.resample(rule = '1Y',on = 'date',label = 'right').sum()\n",
    "\n",
    "#assign x,y\n",
    "x = df_rain_1y.index\n",
    "y = df_rain_1y[\"1_9943\"]\n",
    "\n",
    "#plot\n",
    "plt.plot(x,y)  \n",
    "\n",
    "#display the title and label\n",
    "plt.title(\"annual rainfall\")\n",
    "plt.xlabel('time (in year)')\n",
    "plt.ylabel('rainfall totals (in mm)')\n",
    "\n",
    "#show the plot\n",
    "plt.show()\n",
    "\n",
    "#df_rain_1y.columns\n",
    "#df_rain_1y.head()\n",
    "#df_rain_1y.iloc[0]"
   ]
  },
  {
   "cell_type": "markdown",
   "id": "532ca896",
   "metadata": {},
   "source": [
    "#### 3. (25% + 5%) Calculate maximum 1-day rainfall for each month, and export to a CSV file named _Rain_MD-Androy-Bekily_1d-1M-Mean_19810101-20211231_CHIRPS.csv_ "
   ]
  },
  {
   "cell_type": "code",
   "execution_count": 4,
   "id": "367441bf",
   "metadata": {},
   "outputs": [],
   "source": [
    "#resample in month and find maximum\n",
    "df_rain_1M = df_rain.resample(rule = '1M',on = 'date',label='left').max()\n",
    "\n",
    "#export into csv\n",
    "fn_data_out = './Data/Rain_MD-Androy-Bekily_1d-1M-Mean_19810101-20211231_CHIRPS.csv'\n",
    "df_rain_1M.to_csv(fn_data_out, float_format='%.2f')\n",
    "\n",
    "#df_rain_1M"
   ]
  },
  {
   "cell_type": "markdown",
   "id": "187cb8c4",
   "metadata": {},
   "source": [
    "#### 4. (25% + 5%) Calculate maximum 3 calendar-day rainfall for calendar month November for each year, and export to a CSV file named _Rain_MD-Androy-Bekily_3d-Nov-Max_19810101-20210530_CHIRPS.csv_ "
   ]
  },
  {
   "cell_type": "code",
   "execution_count": 5,
   "id": "1a411a7a",
   "metadata": {},
   "outputs": [],
   "source": [
    "#resample in 3 calendar-day and sum up\n",
    "df_rain_3D = df_rain.resample(rule = '3D',on = 'date').sum()\n",
    "\n",
    "df_rain_3D = df_rain_3D.reset_index()\n",
    "#df_rain_3D.head(20)"
   ]
  },
  {
   "cell_type": "code",
   "execution_count": 6,
   "id": "bcd9e0d4",
   "metadata": {},
   "outputs": [],
   "source": [
    "#resample in 1 Month and find maximum\n",
    "df_rain_3D_1M = df_rain_3D.resample(rule = '1M',on = 'date').max()\n",
    "\n",
    "#df_rain_3D_1M\n",
    "\n",
    "df_rain_3D_1M_Nov = df_rain_3D_1M[df_rain_3D_1M['date'].dt.month == 11]\n",
    "\n",
    "#df_rain_3D_1M_Nov\n",
    "\n",
    "#export into csv\n",
    "fn_data_out1 = './Data/Rain_MD-Androy-Bekily_3d-Nov-Max_19810101-20210530_CHIRPS.csv'\n",
    "df_rain_3D_1M_Nov.to_csv(fn_data_out1, float_format='%.2f')"
   ]
  },
  {
   "cell_type": "markdown",
   "id": "400d8a0b",
   "metadata": {},
   "source": [
    "### For your reference, CHIRPS (Climate Hazards Group InfraRed Precipitation with Station data) is a satellite-based precipitation product. It has provided quasi-global rainfall estimate for over 35 years. You can find more information about CHRIPS via this link: https://www.nature.com/articles/sdata201566\n",
    "\n",
    "### The CSV data file you work with here was clipped over a town called Bekily in the region of Androy Province, Madagascar. Farmers from Bekily are one of the poorest in the world, having no resources to build irrigation system, thus suffering a lot from the drought ( a consequence of climate change, impacting many regions in the world). "
   ]
  },
  {
   "cell_type": "code",
   "execution_count": null,
   "id": "d173cba1",
   "metadata": {},
   "outputs": [],
   "source": []
  }
 ],
 "metadata": {
  "kernelspec": {
   "display_name": "Python 3 (ipykernel)",
   "language": "python",
   "name": "python3"
  },
  "language_info": {
   "codemirror_mode": {
    "name": "ipython",
    "version": 3
   },
   "file_extension": ".py",
   "mimetype": "text/x-python",
   "name": "python",
   "nbconvert_exporter": "python",
   "pygments_lexer": "ipython3",
   "version": "3.9.12"
  }
 },
 "nbformat": 4,
 "nbformat_minor": 5
}
